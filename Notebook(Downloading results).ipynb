{
 "cells": [
  {
   "cell_type": "code",
   "execution_count": 1,
   "id": "71db2ce5-c025-4403-bd66-8ea11183649d",
   "metadata": {},
   "outputs": [],
   "source": [
    "from selenium import webdriver\n",
    "from selenium.webdriver.chrome.service import Service\n",
    "from selenium.webdriver.common.by import By\n",
    "from selenium.webdriver.common.keys import Keys\n",
    "from selenium.webdriver.support.ui import Select\n"
   ]
  },
  {
   "cell_type": "code",
   "execution_count": 2,
   "id": "838ad191-7100-44d9-9acc-1b6e244ff17e",
   "metadata": {},
   "outputs": [],
   "source": [
    "import time\n",
    "import pandas as pd\n",
    "import numpy as np\n",
    "import os"
   ]
  },
  {
   "cell_type": "code",
   "execution_count": 3,
   "id": "565ce7fe-8cb3-4422-925f-fd5315e019a9",
   "metadata": {},
   "outputs": [],
   "source": [
    "options = webdriver.EdgeOptions()\n",
    "preferences = {\"download.default_directory\": os.getcwd(),\n",
    "               \"directory_upgrade\": True,\n",
    "               \"safebrowsing.enabled\": True}\n",
    "options.add_experimental_option(\"prefs\", preferences)\n",
    "\n",
    "driver = webdriver.Edge(options=options)\n",
    "driver.implicitly_wait(60)"
   ]
  },
  {
   "cell_type": "code",
   "execution_count": 4,
   "id": "8406a90a-109f-4e64-9972-93f445c79fc9",
   "metadata": {},
   "outputs": [],
   "source": [
    "home_page=\"https://www.knec-portal.ac.ke/\""
   ]
  },
  {
   "cell_type": "code",
   "execution_count": 5,
   "id": "c8c680e9-11e4-470d-947d-d541606f2ae1",
   "metadata": {},
   "outputs": [],
   "source": [
    "#Accessing the home page\n",
    "driver.get(home_page)\n",
    "#time.sleep(3)"
   ]
  },
  {
   "cell_type": "code",
   "execution_count": 6,
   "id": "7776be00-4936-480e-b11b-1b295288d818",
   "metadata": {},
   "outputs": [],
   "source": [
    "#login page\n",
    "result_slip_inside= driver.find_element(By.NAME,'ctl00$cphMain$btnKCPESlip')\n",
    "result_slip_inside.click()"
   ]
  },
  {
   "cell_type": "code",
   "execution_count": 7,
   "id": "d97c0d84-9a40-4d9e-8fee-f21205a7d5e8",
   "metadata": {},
   "outputs": [],
   "source": [
    "time.sleep(3)\n",
    "user_name= driver.find_element(By.NAME,\"ctl00$ContentPlaceHolder1$txtUser\")\n",
    "password= driver.find_element(By.NAME,'ctl00$ContentPlaceHolder1$txtPassword')\n",
    "\n",
    "user_name.send_keys(\"********SCHOOLCODE********\")\n",
    "password.send_keys(\"************PASSWORD***********\")\n",
    "\n",
    "login_button= driver.find_element(By.NAME,\"ctl00$ContentPlaceHolder1$btnLogIn\")"
   ]
  },
  {
   "cell_type": "code",
   "execution_count": 8,
   "id": "d6012225-de01-45fe-a80a-75ccbe6f3198",
   "metadata": {},
   "outputs": [],
   "source": [
    "login_button.click()"
   ]
  },
  {
   "cell_type": "markdown",
   "id": "5a3936b9-e0bb-4f2b-8c97-baa65619a61f",
   "metadata": {},
   "source": [
    "Get the starting index and the ending index"
   ]
  },
  {
   "cell_type": "code",
   "execution_count": null,
   "id": "2ee8ed60",
   "metadata": {},
   "outputs": [],
   "source": [
    "start_index=1 \n",
    "end_index=1234567"
   ]
  },
  {
   "cell_type": "code",
   "execution_count": 10,
   "id": "e843dd63-1253-4446-ae85-ed41de39aa0f",
   "metadata": {},
   "outputs": [],
   "source": [
    "from_input_id ='ctl00_cphMain_TabContainer1_Report_ReportViewer1_ctl04_ctl03_txtValue'\n",
    "from_input_name='ctl00$cphMain$TabContainer1$Report$ReportViewer1$ctl04$ctl03$txtValue'\n",
    "to_input_id='ctl00_cphMain_TabContainer1_Report_ReportViewer1_ctl04_ctl05_txtValue'\n",
    "to_input_name='ctl00$cphMain$TabContainer1$Report$ReportViewer1$ctl04$ctl05$txtValue'\n",
    "\n",
    "submit_button_name='ctl00$cphMain$TabContainer1$Report$ReportViewer1$ctl04$ctl00'\n",
    "submit_button_id='ctl00_cphMain_TabContainer1_Report_ReportViewer1_ctl04_ctl00'"
   ]
  },
  {
   "cell_type": "code",
   "execution_count": 11,
   "id": "e026594f-c4e5-4bc4-ac2c-f7009b37e839",
   "metadata": {},
   "outputs": [],
   "source": [
    "starting_index_input= driver.find_element(By.ID,\"ctl00_cphMain_TabContainer1_Report_ReportViewer1_ctl04_ctl03_txtValue\")\n",
    "ending_index_input= driver.find_element(By.ID,\"ctl00_cphMain_TabContainer1_Report_ReportViewer1_ctl04_ctl05_txtValue\")\n",
    "submit_form_data=driver.find_element(By.ID,\"ctl00_cphMain_TabContainer1_Report_ReportViewer1_ctl04_ctl00\")\n",
    "\n",
    "starting_index_input.send_keys(str(start_index))\n",
    "ending_index_input.send_keys(str(end_index))"
   ]
  },
  {
   "cell_type": "code",
   "execution_count": 12,
   "id": "27ff3fb0-e541-4df9-97a4-666513e2e0c9",
   "metadata": {},
   "outputs": [],
   "source": [
    "submit_form_data.click()"
   ]
  },
  {
   "cell_type": "code",
   "execution_count": null,
   "id": "88cef0d1-fe44-4385-b785-500c716c8c56",
   "metadata": {},
   "outputs": [],
   "source": [
    "sstorage = driver.execute_script(\"return sessionStorage;\")"
   ]
  },
  {
   "cell_type": "code",
   "execution_count": null,
   "id": "1337d685-2713-4107-adaa-773c0dbf1741",
   "metadata": {},
   "outputs": [],
   "source": [
    "sstorage"
   ]
  },
  {
   "cell_type": "code",
   "execution_count": 14,
   "id": "effa2298-844f-4af3-9314-442034ae4ce6",
   "metadata": {},
   "outputs": [],
   "source": [
    "driver.implicitly_wait(60)\n",
    "file_drop_down_options=driver.find_element(By.ID,'ctl00_cphMain_TabContainer1_Report_ReportViewer1_ctl05_ctl04_ctl00_ButtonImg')\n"
   ]
  },
  {
   "cell_type": "code",
   "execution_count": 15,
   "id": "db63a9ca-54d7-45a1-8a29-1dbcbdac3b57",
   "metadata": {},
   "outputs": [],
   "source": [
    "driver.execute_script(\"$find('ctl00_cphMain_TabContainer1_Report_ReportViewer1').exportReport('CSV');\")"
   ]
  },
  {
   "cell_type": "code",
   "execution_count": null,
   "id": "e06c45ba",
   "metadata": {},
   "outputs": [],
   "source": [
    "driver.close()"
   ]
  }
 ],
 "metadata": {
  "kernelspec": {
   "display_name": "Python 3 (ipykernel)",
   "language": "python",
   "name": "python3"
  },
  "language_info": {
   "codemirror_mode": {
    "name": "ipython",
    "version": 3
   },
   "file_extension": ".py",
   "mimetype": "text/x-python",
   "name": "python",
   "nbconvert_exporter": "python",
   "pygments_lexer": "ipython3",
   "version": "3.11.4"
  }
 },
 "nbformat": 4,
 "nbformat_minor": 5
}
